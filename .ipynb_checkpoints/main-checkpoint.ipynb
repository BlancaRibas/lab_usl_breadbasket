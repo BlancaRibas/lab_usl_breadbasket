{
 "cells": [
  {
   "cell_type": "markdown",
   "id": "1922f79d",
   "metadata": {},
   "source": [
    "## Grandma's bread shop\n",
    "\n",
    "Try to clusterize the Grandma's bread shop customers by item and by date. Then try to explain how are the clusters (cluster EDA)."
   ]
  },
  {
   "cell_type": "code",
   "execution_count": null,
   "id": "b07ace49",
   "metadata": {},
   "outputs": [],
   "source": [
    "# Run this code\n",
    "\n",
    "import pandas as pd\n",
    "\n",
    "df=pd.read_csv('data/breadbasket_dms.csv')\n",
    "\n",
    "df.head()"
   ]
  },
  {
   "cell_type": "code",
   "execution_count": null,
   "id": "c66a9421",
   "metadata": {},
   "outputs": [],
   "source": [
    "# Your code here"
   ]
  },
  {
   "cell_type": "code",
   "execution_count": null,
   "id": "db68d0c3",
   "metadata": {},
   "outputs": [],
   "source": [
    "# Your explanation here"
   ]
  }
 ],
 "metadata": {
  "kernelspec": {
   "display_name": "Python 3",
   "language": "python",
   "name": "python3"
  },
  "language_info": {
   "codemirror_mode": {
    "name": "ipython",
    "version": 3
   },
   "file_extension": ".py",
   "mimetype": "text/x-python",
   "name": "python",
   "nbconvert_exporter": "python",
   "pygments_lexer": "ipython3",
   "version": "3.7.10"
  },
  "varInspector": {
   "cols": {
    "lenName": 16,
    "lenType": 16,
    "lenVar": 40
   },
   "kernels_config": {
    "python": {
     "delete_cmd_postfix": "",
     "delete_cmd_prefix": "del ",
     "library": "var_list.py",
     "varRefreshCmd": "print(var_dic_list())"
    },
    "r": {
     "delete_cmd_postfix": ") ",
     "delete_cmd_prefix": "rm(",
     "library": "var_list.r",
     "varRefreshCmd": "cat(var_dic_list()) "
    }
   },
   "types_to_exclude": [
    "module",
    "function",
    "builtin_function_or_method",
    "instance",
    "_Feature"
   ],
   "window_display": false
  }
 },
 "nbformat": 4,
 "nbformat_minor": 5
}
